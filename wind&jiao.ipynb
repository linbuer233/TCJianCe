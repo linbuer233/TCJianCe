{
 "cells": [
  {
   "cell_type": "markdown",
   "source": [
    "# 计算速度和角度"
   ],
   "metadata": {
    "collapsed": false,
    "pycharm": {
     "name": "#%% md\n"
    }
   }
  },
  {
   "cell_type": "code",
   "execution_count": 1,
   "metadata": {
    "pycharm": {
     "name": "#%%\n"
    }
   },
   "outputs": [],
   "source": [
    "import pandas as pd\n",
    "import numpy as np "
   ]
  },
  {
   "cell_type": "code",
   "execution_count": 2,
   "metadata": {
    "pycharm": {
     "name": "#%%\n"
    }
   },
   "outputs": [
    {
     "data": {
      "text/plain": "     Unnamed: 0          时间    强度    纬度     经度  最低气压  最大风速        名字  月份\n0            76       66666  1703   2.1    0.4  1703     0  NANMADOL   7\n1            77  2017070106     1  15.8  132.2  1002    13  NANMADOL   7\n2            78  2017070112     1  17.0  130.3  1000    15  NANMADOL   7\n3            79  2017070118     1  18.8  128.8  1000    15  NANMADOL   7\n4            80  2017070200     2  20.7  126.8   998    18  NANMADOL   7\n..          ...         ...   ...   ...    ...   ...   ...       ...  ..\n398         496       66666  1716   2.2    1.7  1716     0     MAWAR   8\n399         497  2017083100     1  19.3  119.9  1002    13     MAWAR   8\n400         498  2017083106     1  19.4  119.6  1002    13     MAWAR   8\n401         499  2017083112     1  19.6  119.3  1000    15     MAWAR   8\n402         500  2017083118     2  19.8  119.1   998    18     MAWAR   8\n\n[403 rows x 9 columns]",
      "text/html": "<div>\n<style scoped>\n    .dataframe tbody tr th:only-of-type {\n        vertical-align: middle;\n    }\n\n    .dataframe tbody tr th {\n        vertical-align: top;\n    }\n\n    .dataframe thead th {\n        text-align: right;\n    }\n</style>\n<table border=\"1\" class=\"dataframe\">\n  <thead>\n    <tr style=\"text-align: right;\">\n      <th></th>\n      <th>Unnamed: 0</th>\n      <th>时间</th>\n      <th>强度</th>\n      <th>纬度</th>\n      <th>经度</th>\n      <th>最低气压</th>\n      <th>最大风速</th>\n      <th>名字</th>\n      <th>月份</th>\n    </tr>\n  </thead>\n  <tbody>\n    <tr>\n      <th>0</th>\n      <td>76</td>\n      <td>66666</td>\n      <td>1703</td>\n      <td>2.1</td>\n      <td>0.4</td>\n      <td>1703</td>\n      <td>0</td>\n      <td>NANMADOL</td>\n      <td>7</td>\n    </tr>\n    <tr>\n      <th>1</th>\n      <td>77</td>\n      <td>2017070106</td>\n      <td>1</td>\n      <td>15.8</td>\n      <td>132.2</td>\n      <td>1002</td>\n      <td>13</td>\n      <td>NANMADOL</td>\n      <td>7</td>\n    </tr>\n    <tr>\n      <th>2</th>\n      <td>78</td>\n      <td>2017070112</td>\n      <td>1</td>\n      <td>17.0</td>\n      <td>130.3</td>\n      <td>1000</td>\n      <td>15</td>\n      <td>NANMADOL</td>\n      <td>7</td>\n    </tr>\n    <tr>\n      <th>3</th>\n      <td>79</td>\n      <td>2017070118</td>\n      <td>1</td>\n      <td>18.8</td>\n      <td>128.8</td>\n      <td>1000</td>\n      <td>15</td>\n      <td>NANMADOL</td>\n      <td>7</td>\n    </tr>\n    <tr>\n      <th>4</th>\n      <td>80</td>\n      <td>2017070200</td>\n      <td>2</td>\n      <td>20.7</td>\n      <td>126.8</td>\n      <td>998</td>\n      <td>18</td>\n      <td>NANMADOL</td>\n      <td>7</td>\n    </tr>\n    <tr>\n      <th>...</th>\n      <td>...</td>\n      <td>...</td>\n      <td>...</td>\n      <td>...</td>\n      <td>...</td>\n      <td>...</td>\n      <td>...</td>\n      <td>...</td>\n      <td>...</td>\n    </tr>\n    <tr>\n      <th>398</th>\n      <td>496</td>\n      <td>66666</td>\n      <td>1716</td>\n      <td>2.2</td>\n      <td>1.7</td>\n      <td>1716</td>\n      <td>0</td>\n      <td>MAWAR</td>\n      <td>8</td>\n    </tr>\n    <tr>\n      <th>399</th>\n      <td>497</td>\n      <td>2017083100</td>\n      <td>1</td>\n      <td>19.3</td>\n      <td>119.9</td>\n      <td>1002</td>\n      <td>13</td>\n      <td>MAWAR</td>\n      <td>8</td>\n    </tr>\n    <tr>\n      <th>400</th>\n      <td>498</td>\n      <td>2017083106</td>\n      <td>1</td>\n      <td>19.4</td>\n      <td>119.6</td>\n      <td>1002</td>\n      <td>13</td>\n      <td>MAWAR</td>\n      <td>8</td>\n    </tr>\n    <tr>\n      <th>401</th>\n      <td>499</td>\n      <td>2017083112</td>\n      <td>1</td>\n      <td>19.6</td>\n      <td>119.3</td>\n      <td>1000</td>\n      <td>15</td>\n      <td>MAWAR</td>\n      <td>8</td>\n    </tr>\n    <tr>\n      <th>402</th>\n      <td>500</td>\n      <td>2017083118</td>\n      <td>2</td>\n      <td>19.8</td>\n      <td>119.1</td>\n      <td>998</td>\n      <td>18</td>\n      <td>MAWAR</td>\n      <td>8</td>\n    </tr>\n  </tbody>\n</table>\n<p>403 rows × 9 columns</p>\n</div>"
     },
     "execution_count": 2,
     "metadata": {},
     "output_type": "execute_result"
    }
   ],
   "source": [
    "df=pd.read_csv(r'../data/CMATC7-8/CH2017.csv')\n",
    "df"
   ]
  },
  {
   "cell_type": "code",
   "execution_count": 3,
   "metadata": {
    "pycharm": {
     "name": "#%%\n"
    }
   },
   "outputs": [
    {
     "data": {
      "text/plain": "     Unnamed: 0          时间    强度    纬度     经度  最低气压  最大风速        名字  月份   速度  \\\n0            76       66666  1703   2.1    0.4  1703     0  NANMADOL   7  0.0   \n1            77  2017070106     1  15.8  132.2  1002    13  NANMADOL   7  0.0   \n2            78  2017070112     1  17.0  130.3  1000    15  NANMADOL   7  0.0   \n3            79  2017070118     1  18.8  128.8  1000    15  NANMADOL   7  0.0   \n4            80  2017070200     2  20.7  126.8   998    18  NANMADOL   7  0.0   \n..          ...         ...   ...   ...    ...   ...   ...       ...  ..  ...   \n398         496       66666  1716   2.2    1.7  1716     0     MAWAR   8  0.0   \n399         497  2017083100     1  19.3  119.9  1002    13     MAWAR   8  0.0   \n400         498  2017083106     1  19.4  119.6  1002    13     MAWAR   8  0.0   \n401         499  2017083112     1  19.6  119.3  1000    15     MAWAR   8  0.0   \n402         500  2017083118     2  19.8  119.1   998    18     MAWAR   8  0.0   \n\n      角度  \n0    0.0  \n1    0.0  \n2    0.0  \n3    0.0  \n4    0.0  \n..   ...  \n398  0.0  \n399  0.0  \n400  0.0  \n401  0.0  \n402  0.0  \n\n[403 rows x 11 columns]",
      "text/html": "<div>\n<style scoped>\n    .dataframe tbody tr th:only-of-type {\n        vertical-align: middle;\n    }\n\n    .dataframe tbody tr th {\n        vertical-align: top;\n    }\n\n    .dataframe thead th {\n        text-align: right;\n    }\n</style>\n<table border=\"1\" class=\"dataframe\">\n  <thead>\n    <tr style=\"text-align: right;\">\n      <th></th>\n      <th>Unnamed: 0</th>\n      <th>时间</th>\n      <th>强度</th>\n      <th>纬度</th>\n      <th>经度</th>\n      <th>最低气压</th>\n      <th>最大风速</th>\n      <th>名字</th>\n      <th>月份</th>\n      <th>速度</th>\n      <th>角度</th>\n    </tr>\n  </thead>\n  <tbody>\n    <tr>\n      <th>0</th>\n      <td>76</td>\n      <td>66666</td>\n      <td>1703</td>\n      <td>2.1</td>\n      <td>0.4</td>\n      <td>1703</td>\n      <td>0</td>\n      <td>NANMADOL</td>\n      <td>7</td>\n      <td>0.0</td>\n      <td>0.0</td>\n    </tr>\n    <tr>\n      <th>1</th>\n      <td>77</td>\n      <td>2017070106</td>\n      <td>1</td>\n      <td>15.8</td>\n      <td>132.2</td>\n      <td>1002</td>\n      <td>13</td>\n      <td>NANMADOL</td>\n      <td>7</td>\n      <td>0.0</td>\n      <td>0.0</td>\n    </tr>\n    <tr>\n      <th>2</th>\n      <td>78</td>\n      <td>2017070112</td>\n      <td>1</td>\n      <td>17.0</td>\n      <td>130.3</td>\n      <td>1000</td>\n      <td>15</td>\n      <td>NANMADOL</td>\n      <td>7</td>\n      <td>0.0</td>\n      <td>0.0</td>\n    </tr>\n    <tr>\n      <th>3</th>\n      <td>79</td>\n      <td>2017070118</td>\n      <td>1</td>\n      <td>18.8</td>\n      <td>128.8</td>\n      <td>1000</td>\n      <td>15</td>\n      <td>NANMADOL</td>\n      <td>7</td>\n      <td>0.0</td>\n      <td>0.0</td>\n    </tr>\n    <tr>\n      <th>4</th>\n      <td>80</td>\n      <td>2017070200</td>\n      <td>2</td>\n      <td>20.7</td>\n      <td>126.8</td>\n      <td>998</td>\n      <td>18</td>\n      <td>NANMADOL</td>\n      <td>7</td>\n      <td>0.0</td>\n      <td>0.0</td>\n    </tr>\n    <tr>\n      <th>...</th>\n      <td>...</td>\n      <td>...</td>\n      <td>...</td>\n      <td>...</td>\n      <td>...</td>\n      <td>...</td>\n      <td>...</td>\n      <td>...</td>\n      <td>...</td>\n      <td>...</td>\n      <td>...</td>\n    </tr>\n    <tr>\n      <th>398</th>\n      <td>496</td>\n      <td>66666</td>\n      <td>1716</td>\n      <td>2.2</td>\n      <td>1.7</td>\n      <td>1716</td>\n      <td>0</td>\n      <td>MAWAR</td>\n      <td>8</td>\n      <td>0.0</td>\n      <td>0.0</td>\n    </tr>\n    <tr>\n      <th>399</th>\n      <td>497</td>\n      <td>2017083100</td>\n      <td>1</td>\n      <td>19.3</td>\n      <td>119.9</td>\n      <td>1002</td>\n      <td>13</td>\n      <td>MAWAR</td>\n      <td>8</td>\n      <td>0.0</td>\n      <td>0.0</td>\n    </tr>\n    <tr>\n      <th>400</th>\n      <td>498</td>\n      <td>2017083106</td>\n      <td>1</td>\n      <td>19.4</td>\n      <td>119.6</td>\n      <td>1002</td>\n      <td>13</td>\n      <td>MAWAR</td>\n      <td>8</td>\n      <td>0.0</td>\n      <td>0.0</td>\n    </tr>\n    <tr>\n      <th>401</th>\n      <td>499</td>\n      <td>2017083112</td>\n      <td>1</td>\n      <td>19.6</td>\n      <td>119.3</td>\n      <td>1000</td>\n      <td>15</td>\n      <td>MAWAR</td>\n      <td>8</td>\n      <td>0.0</td>\n      <td>0.0</td>\n    </tr>\n    <tr>\n      <th>402</th>\n      <td>500</td>\n      <td>2017083118</td>\n      <td>2</td>\n      <td>19.8</td>\n      <td>119.1</td>\n      <td>998</td>\n      <td>18</td>\n      <td>MAWAR</td>\n      <td>8</td>\n      <td>0.0</td>\n      <td>0.0</td>\n    </tr>\n  </tbody>\n</table>\n<p>403 rows × 11 columns</p>\n</div>"
     },
     "execution_count": 3,
     "metadata": {},
     "output_type": "execute_result"
    }
   ],
   "source": [
    "df['速度'] = np.zeros(len(df))\n",
    "df['角度'] = np.zeros(len(df))\n",
    "df"
   ]
  },
  {
   "cell_type": "code",
   "execution_count": 4,
   "metadata": {
    "pycharm": {
     "name": "#%%\n"
    }
   },
   "outputs": [],
   "source": [
    "def speed(lon1,lon2,lat1,lat2):\n",
    "    R = 6371\n",
    "    wa=lat1*np.pi/180\n",
    "    wb=lat2*np.pi/180\n",
    "    ja=lon1*np.pi/180\n",
    "    jb=lon2*np.pi/180\n",
    "    return R*np.arccos(np.sin(wa)*np.sin(wb)+np.cos(wa)*np.cos(wb)*np.cos(ja-jb))\n",
    "def jiao(lon1,lon2,lat1,lat2):\n",
    "    return np.arctan((lat2-lat1)/(lon2-lon1))\n"
   ]
  },
  {
   "cell_type": "code",
   "execution_count": 5,
   "metadata": {
    "pycharm": {
     "name": "#%%\n"
    }
   },
   "outputs": [
    {
     "name": "stderr",
     "output_type": "stream",
     "text": [
      "D:\\Temp\\ipykernel_2120\\3888734313.py:9: RuntimeWarning: divide by zero encountered in double_scalars\n",
      "  return np.arctan((lat2-lat1)/(lon2-lon1))\n",
      "D:\\Temp\\ipykernel_2120\\3888734313.py:9: RuntimeWarning: divide by zero encountered in double_scalars\n",
      "  return np.arctan((lat2-lat1)/(lon2-lon1))\n",
      "D:\\Temp\\ipykernel_2120\\3888734313.py:9: RuntimeWarning: divide by zero encountered in double_scalars\n",
      "  return np.arctan((lat2-lat1)/(lon2-lon1))\n",
      "D:\\Temp\\ipykernel_2120\\3888734313.py:9: RuntimeWarning: divide by zero encountered in double_scalars\n",
      "  return np.arctan((lat2-lat1)/(lon2-lon1))\n",
      "D:\\Temp\\ipykernel_2120\\3888734313.py:9: RuntimeWarning: divide by zero encountered in double_scalars\n",
      "  return np.arctan((lat2-lat1)/(lon2-lon1))\n",
      "D:\\Temp\\ipykernel_2120\\3888734313.py:9: RuntimeWarning: divide by zero encountered in double_scalars\n",
      "  return np.arctan((lat2-lat1)/(lon2-lon1))\n",
      "D:\\Temp\\ipykernel_2120\\3888734313.py:9: RuntimeWarning: divide by zero encountered in double_scalars\n",
      "  return np.arctan((lat2-lat1)/(lon2-lon1))\n",
      "D:\\Temp\\ipykernel_2120\\3888734313.py:9: RuntimeWarning: divide by zero encountered in double_scalars\n",
      "  return np.arctan((lat2-lat1)/(lon2-lon1))\n",
      "D:\\Temp\\ipykernel_2120\\3888734313.py:9: RuntimeWarning: divide by zero encountered in double_scalars\n",
      "  return np.arctan((lat2-lat1)/(lon2-lon1))\n",
      "D:\\Temp\\ipykernel_2120\\3888734313.py:9: RuntimeWarning: divide by zero encountered in double_scalars\n",
      "  return np.arctan((lat2-lat1)/(lon2-lon1))\n",
      "D:\\Temp\\ipykernel_2120\\3888734313.py:9: RuntimeWarning: divide by zero encountered in double_scalars\n",
      "  return np.arctan((lat2-lat1)/(lon2-lon1))\n",
      "D:\\Temp\\ipykernel_2120\\3888734313.py:9: RuntimeWarning: divide by zero encountered in double_scalars\n",
      "  return np.arctan((lat2-lat1)/(lon2-lon1))\n"
     ]
    }
   ],
   "source": [
    "for i in range(1,len(df),1):\n",
    "    if i == len(df)-1:\n",
    "        break\n",
    "    if (df.loc[i+1]['时间']==66666) or (df.loc[i]['时间']==66666) :\n",
    "        continue\n",
    "    df.loc[i,['速度']]=[speed(df.loc[i]['经度'] ,df.loc[i+1]['经度']  ,df.loc[i]['纬度']  ,df.loc[i+1]['纬度'])]\n",
    "\n",
    "    df.loc[i,['角度']]=[jiao(df.loc[i]['经度'] ,df.loc[i+1]['经度']  ,df.loc[i]['纬度']  ,df.loc[i+1]['纬度'])]"
   ]
  },
  {
   "cell_type": "code",
   "execution_count": 6,
   "metadata": {
    "pycharm": {
     "name": "#%%\n"
    }
   },
   "outputs": [
    {
     "data": {
      "text/plain": "     Unnamed: 0          时间    强度    纬度     经度  最低气压  最大风速        名字  月份  \\\n0            76       66666  1703   2.1    0.4  1703     0  NANMADOL   7   \n1            77  2017070106     1  15.8  132.2  1002    13  NANMADOL   7   \n2            78  2017070112     1  17.0  130.3  1000    15  NANMADOL   7   \n3            79  2017070118     1  18.8  128.8  1000    15  NANMADOL   7   \n4            80  2017070200     2  20.7  126.8   998    18  NANMADOL   7   \n..          ...         ...   ...   ...    ...   ...   ...       ...  ..   \n398         496       66666  1716   2.2    1.7  1716     0     MAWAR   8   \n399         497  2017083100     1  19.3  119.9  1002    13     MAWAR   8   \n400         498  2017083106     1  19.4  119.6  1002    13     MAWAR   8   \n401         499  2017083112     1  19.6  119.3  1000    15     MAWAR   8   \n402         500  2017083118     2  19.8  119.1   998    18     MAWAR   8   \n\n             速度        角度  \n0      0.000000  0.000000  \n1    242.650807 -0.563316  \n2    255.439114 -0.876058  \n3    297.386830 -0.759763  \n4    201.937351 -0.938047  \n..          ...       ...  \n398    0.000000  0.000000  \n399   33.380584 -0.321751  \n400   38.514468 -0.588003  \n401   30.544139 -0.785398  \n402    0.000000  0.000000  \n\n[403 rows x 11 columns]",
      "text/html": "<div>\n<style scoped>\n    .dataframe tbody tr th:only-of-type {\n        vertical-align: middle;\n    }\n\n    .dataframe tbody tr th {\n        vertical-align: top;\n    }\n\n    .dataframe thead th {\n        text-align: right;\n    }\n</style>\n<table border=\"1\" class=\"dataframe\">\n  <thead>\n    <tr style=\"text-align: right;\">\n      <th></th>\n      <th>Unnamed: 0</th>\n      <th>时间</th>\n      <th>强度</th>\n      <th>纬度</th>\n      <th>经度</th>\n      <th>最低气压</th>\n      <th>最大风速</th>\n      <th>名字</th>\n      <th>月份</th>\n      <th>速度</th>\n      <th>角度</th>\n    </tr>\n  </thead>\n  <tbody>\n    <tr>\n      <th>0</th>\n      <td>76</td>\n      <td>66666</td>\n      <td>1703</td>\n      <td>2.1</td>\n      <td>0.4</td>\n      <td>1703</td>\n      <td>0</td>\n      <td>NANMADOL</td>\n      <td>7</td>\n      <td>0.000000</td>\n      <td>0.000000</td>\n    </tr>\n    <tr>\n      <th>1</th>\n      <td>77</td>\n      <td>2017070106</td>\n      <td>1</td>\n      <td>15.8</td>\n      <td>132.2</td>\n      <td>1002</td>\n      <td>13</td>\n      <td>NANMADOL</td>\n      <td>7</td>\n      <td>242.650807</td>\n      <td>-0.563316</td>\n    </tr>\n    <tr>\n      <th>2</th>\n      <td>78</td>\n      <td>2017070112</td>\n      <td>1</td>\n      <td>17.0</td>\n      <td>130.3</td>\n      <td>1000</td>\n      <td>15</td>\n      <td>NANMADOL</td>\n      <td>7</td>\n      <td>255.439114</td>\n      <td>-0.876058</td>\n    </tr>\n    <tr>\n      <th>3</th>\n      <td>79</td>\n      <td>2017070118</td>\n      <td>1</td>\n      <td>18.8</td>\n      <td>128.8</td>\n      <td>1000</td>\n      <td>15</td>\n      <td>NANMADOL</td>\n      <td>7</td>\n      <td>297.386830</td>\n      <td>-0.759763</td>\n    </tr>\n    <tr>\n      <th>4</th>\n      <td>80</td>\n      <td>2017070200</td>\n      <td>2</td>\n      <td>20.7</td>\n      <td>126.8</td>\n      <td>998</td>\n      <td>18</td>\n      <td>NANMADOL</td>\n      <td>7</td>\n      <td>201.937351</td>\n      <td>-0.938047</td>\n    </tr>\n    <tr>\n      <th>...</th>\n      <td>...</td>\n      <td>...</td>\n      <td>...</td>\n      <td>...</td>\n      <td>...</td>\n      <td>...</td>\n      <td>...</td>\n      <td>...</td>\n      <td>...</td>\n      <td>...</td>\n      <td>...</td>\n    </tr>\n    <tr>\n      <th>398</th>\n      <td>496</td>\n      <td>66666</td>\n      <td>1716</td>\n      <td>2.2</td>\n      <td>1.7</td>\n      <td>1716</td>\n      <td>0</td>\n      <td>MAWAR</td>\n      <td>8</td>\n      <td>0.000000</td>\n      <td>0.000000</td>\n    </tr>\n    <tr>\n      <th>399</th>\n      <td>497</td>\n      <td>2017083100</td>\n      <td>1</td>\n      <td>19.3</td>\n      <td>119.9</td>\n      <td>1002</td>\n      <td>13</td>\n      <td>MAWAR</td>\n      <td>8</td>\n      <td>33.380584</td>\n      <td>-0.321751</td>\n    </tr>\n    <tr>\n      <th>400</th>\n      <td>498</td>\n      <td>2017083106</td>\n      <td>1</td>\n      <td>19.4</td>\n      <td>119.6</td>\n      <td>1002</td>\n      <td>13</td>\n      <td>MAWAR</td>\n      <td>8</td>\n      <td>38.514468</td>\n      <td>-0.588003</td>\n    </tr>\n    <tr>\n      <th>401</th>\n      <td>499</td>\n      <td>2017083112</td>\n      <td>1</td>\n      <td>19.6</td>\n      <td>119.3</td>\n      <td>1000</td>\n      <td>15</td>\n      <td>MAWAR</td>\n      <td>8</td>\n      <td>30.544139</td>\n      <td>-0.785398</td>\n    </tr>\n    <tr>\n      <th>402</th>\n      <td>500</td>\n      <td>2017083118</td>\n      <td>2</td>\n      <td>19.8</td>\n      <td>119.1</td>\n      <td>998</td>\n      <td>18</td>\n      <td>MAWAR</td>\n      <td>8</td>\n      <td>0.000000</td>\n      <td>0.000000</td>\n    </tr>\n  </tbody>\n</table>\n<p>403 rows × 11 columns</p>\n</div>"
     },
     "execution_count": 6,
     "metadata": {},
     "output_type": "execute_result"
    }
   ],
   "source": [
    "df"
   ]
  },
  {
   "cell_type": "code",
   "execution_count": 28,
   "metadata": {
    "pycharm": {
     "name": "#%%\n"
    }
   },
   "outputs": [
    {
     "data": {
      "text/plain": [
       "1.5707963267948966"
      ]
     },
     "execution_count": 28,
     "metadata": {},
     "output_type": "execute_result"
    }
   ],
   "source": [
    "df['角度'].max()"
   ]
  }
 ],
 "metadata": {
  "interpreter": {
   "hash": "1af7d1ae3c55d82bbda2a5569c7a9f2f2d33ff4c43dd1c666120ac4867346c8c"
  },
  "kernelspec": {
   "display_name": "Python 3.10.4 ('py310')",
   "language": "python",
   "name": "python3"
  },
  "language_info": {
   "codemirror_mode": {
    "name": "ipython",
    "version": 3
   },
   "file_extension": ".py",
   "mimetype": "text/x-python",
   "name": "python",
   "nbconvert_exporter": "python",
   "pygments_lexer": "ipython3",
   "version": "3.10.4"
  },
  "orig_nbformat": 4
 },
 "nbformat": 4,
 "nbformat_minor": 2
}