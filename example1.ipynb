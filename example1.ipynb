{
 "cells": [
  {
   "cell_type": "code",
   "execution_count": 1,
   "outputs": [],
   "source": [
    "import pandas as pd"
   ],
   "metadata": {
    "collapsed": false,
    "pycharm": {
     "name": "#%%\n"
    }
   }
  },
  {
   "cell_type": "code",
   "execution_count": 2,
   "outputs": [],
   "source": [
    "name=['Sinlaku', 'Sinlaku', 'Sinlaku', 'Hagupit', 'Hagupit', 'Hagupit', 'Hagupit', 'Hagupit', 'Hagupit', 'Hagupit', 'Hagupit', 'Hagupit', 'Hagupit', 'Hagupit', 'Hagupit', 'Hagupit', 'Hagupit', 'Hagupit', 'Hagupit', 'Hagupit', 'Hagupit', 'Hagupit', 'Hagupit', 'Hagupit', 'Hagupit', 'Hagupit', 'Hagupit', 'Jangmi', 'Jangmi', 'Jangmi', 'Jangmi', 'Jangmi', 'Jangmi', 'Jangmi', 'Jangmi', 'Jangmi', 'Jangmi', 'Jangmi', 'Mekkhala', 'Mekkhala', 'Mekkhala', 'Mekkhala', 'Higos', 'Higos', 'Higos', 'Higos', 'Higos', 'Bavi', 'Bavi', 'Bavi', 'Bavi', 'Bavi', 'Bavi', 'Bavi', 'Bavi', 'Bavi', 'Bavi', 'Bavi', 'Bavi', 'Bavi', 'Bavi', 'Bavi', 'Bavi', 'Bavi', 'Bavi', 'Bavi', 'Bavi', 'Bavi', 'Maysak', 'Maysak', 'Maysak', 'Maysak', 'Maysak', 'Maysak', 'Maysak', 'Maysak']\n",
    "loss=[0.1760928961750512, 0.14983974358974628, 0.35876831501844286, 0.024285714285840143, -0.09532374100713348, 0.29731585290137197, -0.07043650793639422, -0.4264971139971028, -0.4460659898475736, -0.905906415379576, 0.3425925925927693, 0.5252980720449081, -0.360062893081766, -1.1344074623702642, 0.04127906976731488, -0.9530568677326201, 0.6056250000000887, -0.0012898936170238073, 0.3227272727272812, -1.5015374331552245, -0.03160112359539724, -2.9021627177982907, 0.39187116564444224, -0.7643788343557141, 0.19054878048783408, -1.4666141408605107, -0.21988636363612102, -1.369444444444678, 0.3673312883437774, -0.5511752051628207, 0.05914634146317077, -1.659731209557373, 0.044230769230590994, -1.6641804457229021, -0.04270186335397952, -3.3673913043480432, 0.10027472527497139, -3.381597312639471, -0.6548494983277582, 0.20951957295377355, -0.0851884562436176, -0.07975113122192568, 0.31689189189192213, -0.09425133689862264, -0.11650264579892244, -0.2802835051547614, -0.3221753970466086, -0.7942307692308717, 0.2244897959185046, -0.03580432172845782, -0.03429878048773283, -0.43994849800177427, 0.3490853658537052, -0.19811858151461337, -0.26739130434769187, -1.0878576255913615, -0.4463190184047132, -0.9241140494604334, -0.5051169590645141, -0.6006216909252036, -0.33989726027399136, -1.0537526819606189, -0.005172413793097519, -0.7471366995071911, 0.018478260869532193, -0.8299854262813433, -0.27327127659559736, -2.2952470830473786, -0.13860103626928577, 0.08302919708014755, 0.11448080998323817, 0.13905325443796812, 0.44374938703468736, -0.11102484472047713, -0.7922748447203087, -0.17027559055120456]\n"
   ],
   "metadata": {
    "collapsed": false,
    "pycharm": {
     "name": "#%%\n"
    }
   }
  },
  {
   "cell_type": "code",
   "execution_count": 3,
   "outputs": [
    {
     "data": {
      "text/plain": "Empty DataFrame\nColumns: []\nIndex: []",
      "text/html": "<div>\n<style scoped>\n    .dataframe tbody tr th:only-of-type {\n        vertical-align: middle;\n    }\n\n    .dataframe tbody tr th {\n        vertical-align: top;\n    }\n\n    .dataframe thead th {\n        text-align: right;\n    }\n</style>\n<table border=\"1\" class=\"dataframe\">\n  <thead>\n    <tr style=\"text-align: right;\">\n      <th></th>\n    </tr>\n  </thead>\n  <tbody>\n  </tbody>\n</table>\n</div>"
     },
     "execution_count": 3,
     "metadata": {},
     "output_type": "execute_result"
    }
   ],
   "source": [
    "df = pd.DataFrame()\n",
    "df"
   ],
   "metadata": {
    "collapsed": false,
    "pycharm": {
     "name": "#%%\n"
    }
   }
  },
  {
   "cell_type": "code",
   "execution_count": 4,
   "outputs": [
    {
     "data": {
      "text/plain": "       name      loss\n0   Sinlaku  0.176093\n1   Sinlaku  0.149840\n2   Sinlaku  0.358768\n3   Hagupit  0.024286\n4   Hagupit -0.095324\n..      ...       ...\n71   Maysak  0.139053\n72   Maysak  0.443749\n73   Maysak -0.111025\n74   Maysak -0.792275\n75   Maysak -0.170276\n\n[76 rows x 2 columns]",
      "text/html": "<div>\n<style scoped>\n    .dataframe tbody tr th:only-of-type {\n        vertical-align: middle;\n    }\n\n    .dataframe tbody tr th {\n        vertical-align: top;\n    }\n\n    .dataframe thead th {\n        text-align: right;\n    }\n</style>\n<table border=\"1\" class=\"dataframe\">\n  <thead>\n    <tr style=\"text-align: right;\">\n      <th></th>\n      <th>name</th>\n      <th>loss</th>\n    </tr>\n  </thead>\n  <tbody>\n    <tr>\n      <th>0</th>\n      <td>Sinlaku</td>\n      <td>0.176093</td>\n    </tr>\n    <tr>\n      <th>1</th>\n      <td>Sinlaku</td>\n      <td>0.149840</td>\n    </tr>\n    <tr>\n      <th>2</th>\n      <td>Sinlaku</td>\n      <td>0.358768</td>\n    </tr>\n    <tr>\n      <th>3</th>\n      <td>Hagupit</td>\n      <td>0.024286</td>\n    </tr>\n    <tr>\n      <th>4</th>\n      <td>Hagupit</td>\n      <td>-0.095324</td>\n    </tr>\n    <tr>\n      <th>...</th>\n      <td>...</td>\n      <td>...</td>\n    </tr>\n    <tr>\n      <th>71</th>\n      <td>Maysak</td>\n      <td>0.139053</td>\n    </tr>\n    <tr>\n      <th>72</th>\n      <td>Maysak</td>\n      <td>0.443749</td>\n    </tr>\n    <tr>\n      <th>73</th>\n      <td>Maysak</td>\n      <td>-0.111025</td>\n    </tr>\n    <tr>\n      <th>74</th>\n      <td>Maysak</td>\n      <td>-0.792275</td>\n    </tr>\n    <tr>\n      <th>75</th>\n      <td>Maysak</td>\n      <td>-0.170276</td>\n    </tr>\n  </tbody>\n</table>\n<p>76 rows × 2 columns</p>\n</div>"
     },
     "execution_count": 4,
     "metadata": {},
     "output_type": "execute_result"
    }
   ],
   "source": [
    "df['name']=name\n",
    "df['loss']=loss\n",
    "df"
   ],
   "metadata": {
    "collapsed": false,
    "pycharm": {
     "name": "#%%\n"
    }
   }
  },
  {
   "cell_type": "code",
   "execution_count": 5,
   "outputs": [],
   "source": [
    "df.to_csv('2020loss.csv')"
   ],
   "metadata": {
    "collapsed": false,
    "pycharm": {
     "name": "#%%\n"
    }
   }
  },
  {
   "cell_type": "code",
   "execution_count": 5,
   "outputs": [],
   "source": [],
   "metadata": {
    "collapsed": false,
    "pycharm": {
     "name": "#%%\n"
    }
   }
  }
 ],
 "metadata": {
  "kernelspec": {
   "display_name": "Python 3",
   "language": "python",
   "name": "python3"
  },
  "language_info": {
   "codemirror_mode": {
    "name": "ipython",
    "version": 2
   },
   "file_extension": ".py",
   "mimetype": "text/x-python",
   "name": "python",
   "nbconvert_exporter": "python",
   "pygments_lexer": "ipython2",
   "version": "2.7.6"
  }
 },
 "nbformat": 4,
 "nbformat_minor": 0
}